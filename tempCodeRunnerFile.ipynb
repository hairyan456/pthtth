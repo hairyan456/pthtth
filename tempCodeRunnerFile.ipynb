# Python program to display all the prime numbers within an interval

lower = 900
upper = 1000

print("Prime numbers between", lower, "and", upper, "are:")

for num in range(lower, upper + 1):
    if num > 1:
        count = 1
        for i in range(2,num+1):
            if (num % i) == 0:
                count = count + 1
        if(count ==2):
            print(num,end=''+' ')
        else:
            print(end='')
    else:
        print(end='')  